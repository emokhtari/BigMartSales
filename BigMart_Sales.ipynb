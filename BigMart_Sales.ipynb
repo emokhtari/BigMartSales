{
 "cells": [
  {
   "cell_type": "code",
   "execution_count": 1,
   "id": "dd145d91",
   "metadata": {},
   "outputs": [],
   "source": [
    "import pandas as pd\n",
    "import numpy as np\n",
    "import matplotlib.pyplot as plt\n"
   ]
  },
  {
   "cell_type": "code",
   "execution_count": 2,
   "id": "4b4e95aa",
   "metadata": {},
   "outputs": [],
   "source": [
    "data = pd.read_csv(\"BigMart_Sales.csv\")"
   ]
  },
  {
   "cell_type": "code",
   "execution_count": 3,
   "id": "dc8c7a77",
   "metadata": {},
   "outputs": [
    {
     "data": {
      "text/plain": [
       "(8523, 12)"
      ]
     },
     "execution_count": 3,
     "metadata": {},
     "output_type": "execute_result"
    }
   ],
   "source": [
    "data.shape"
   ]
  },
  {
   "cell_type": "code",
   "execution_count": 4,
   "id": "6204ce49",
   "metadata": {},
   "outputs": [
    {
     "data": {
      "text/html": [
       "<div>\n",
       "<style scoped>\n",
       "    .dataframe tbody tr th:only-of-type {\n",
       "        vertical-align: middle;\n",
       "    }\n",
       "\n",
       "    .dataframe tbody tr th {\n",
       "        vertical-align: top;\n",
       "    }\n",
       "\n",
       "    .dataframe thead th {\n",
       "        text-align: right;\n",
       "    }\n",
       "</style>\n",
       "<table border=\"1\" class=\"dataframe\">\n",
       "  <thead>\n",
       "    <tr style=\"text-align: right;\">\n",
       "      <th></th>\n",
       "      <th>Item_Identifier</th>\n",
       "      <th>Item_Weight</th>\n",
       "      <th>Item_Fat_Content</th>\n",
       "      <th>Item_Visibility</th>\n",
       "      <th>Item_Type</th>\n",
       "      <th>Item_MRP</th>\n",
       "      <th>Outlet_Identifier</th>\n",
       "      <th>Outlet_Establishment_Year</th>\n",
       "      <th>Outlet_Size</th>\n",
       "      <th>Outlet_Location_Type</th>\n",
       "      <th>Outlet_Type</th>\n",
       "      <th>Item_Outlet_Sales</th>\n",
       "    </tr>\n",
       "  </thead>\n",
       "  <tbody>\n",
       "    <tr>\n",
       "      <th>0</th>\n",
       "      <td>FDA15</td>\n",
       "      <td>9.30</td>\n",
       "      <td>Low Fat</td>\n",
       "      <td>0.016047</td>\n",
       "      <td>Dairy</td>\n",
       "      <td>249.8092</td>\n",
       "      <td>OUT049</td>\n",
       "      <td>1999</td>\n",
       "      <td>Medium</td>\n",
       "      <td>Tier 1</td>\n",
       "      <td>Supermarket Type1</td>\n",
       "      <td>3735.1380</td>\n",
       "    </tr>\n",
       "    <tr>\n",
       "      <th>1</th>\n",
       "      <td>DRC01</td>\n",
       "      <td>5.92</td>\n",
       "      <td>Regular</td>\n",
       "      <td>0.019278</td>\n",
       "      <td>Soft Drinks</td>\n",
       "      <td>48.2692</td>\n",
       "      <td>OUT018</td>\n",
       "      <td>2009</td>\n",
       "      <td>Medium</td>\n",
       "      <td>Tier 3</td>\n",
       "      <td>Supermarket Type2</td>\n",
       "      <td>443.4228</td>\n",
       "    </tr>\n",
       "    <tr>\n",
       "      <th>2</th>\n",
       "      <td>FDN15</td>\n",
       "      <td>17.50</td>\n",
       "      <td>Low Fat</td>\n",
       "      <td>0.016760</td>\n",
       "      <td>Meat</td>\n",
       "      <td>141.6180</td>\n",
       "      <td>OUT049</td>\n",
       "      <td>1999</td>\n",
       "      <td>Medium</td>\n",
       "      <td>Tier 1</td>\n",
       "      <td>Supermarket Type1</td>\n",
       "      <td>2097.2700</td>\n",
       "    </tr>\n",
       "    <tr>\n",
       "      <th>3</th>\n",
       "      <td>FDX07</td>\n",
       "      <td>19.20</td>\n",
       "      <td>Regular</td>\n",
       "      <td>0.000000</td>\n",
       "      <td>Fruits and Vegetables</td>\n",
       "      <td>182.0950</td>\n",
       "      <td>OUT010</td>\n",
       "      <td>1998</td>\n",
       "      <td>NaN</td>\n",
       "      <td>Tier 3</td>\n",
       "      <td>Grocery Store</td>\n",
       "      <td>732.3800</td>\n",
       "    </tr>\n",
       "    <tr>\n",
       "      <th>4</th>\n",
       "      <td>NCD19</td>\n",
       "      <td>8.93</td>\n",
       "      <td>Low Fat</td>\n",
       "      <td>0.000000</td>\n",
       "      <td>Household</td>\n",
       "      <td>53.8614</td>\n",
       "      <td>OUT013</td>\n",
       "      <td>1987</td>\n",
       "      <td>High</td>\n",
       "      <td>Tier 3</td>\n",
       "      <td>Supermarket Type1</td>\n",
       "      <td>994.7052</td>\n",
       "    </tr>\n",
       "  </tbody>\n",
       "</table>\n",
       "</div>"
      ],
      "text/plain": [
       "  Item_Identifier  Item_Weight Item_Fat_Content  Item_Visibility  \\\n",
       "0           FDA15         9.30          Low Fat         0.016047   \n",
       "1           DRC01         5.92          Regular         0.019278   \n",
       "2           FDN15        17.50          Low Fat         0.016760   \n",
       "3           FDX07        19.20          Regular         0.000000   \n",
       "4           NCD19         8.93          Low Fat         0.000000   \n",
       "\n",
       "               Item_Type  Item_MRP Outlet_Identifier  \\\n",
       "0                  Dairy  249.8092            OUT049   \n",
       "1            Soft Drinks   48.2692            OUT018   \n",
       "2                   Meat  141.6180            OUT049   \n",
       "3  Fruits and Vegetables  182.0950            OUT010   \n",
       "4              Household   53.8614            OUT013   \n",
       "\n",
       "   Outlet_Establishment_Year Outlet_Size Outlet_Location_Type  \\\n",
       "0                       1999      Medium               Tier 1   \n",
       "1                       2009      Medium               Tier 3   \n",
       "2                       1999      Medium               Tier 1   \n",
       "3                       1998         NaN               Tier 3   \n",
       "4                       1987        High               Tier 3   \n",
       "\n",
       "         Outlet_Type  Item_Outlet_Sales  \n",
       "0  Supermarket Type1          3735.1380  \n",
       "1  Supermarket Type2           443.4228  \n",
       "2  Supermarket Type1          2097.2700  \n",
       "3      Grocery Store           732.3800  \n",
       "4  Supermarket Type1           994.7052  "
      ]
     },
     "execution_count": 4,
     "metadata": {},
     "output_type": "execute_result"
    }
   ],
   "source": [
    "data.head()"
   ]
  },
  {
   "cell_type": "code",
   "execution_count": 5,
   "id": "2d93fa04",
   "metadata": {},
   "outputs": [
    {
     "data": {
      "text/html": [
       "<div>\n",
       "<style scoped>\n",
       "    .dataframe tbody tr th:only-of-type {\n",
       "        vertical-align: middle;\n",
       "    }\n",
       "\n",
       "    .dataframe tbody tr th {\n",
       "        vertical-align: top;\n",
       "    }\n",
       "\n",
       "    .dataframe thead th {\n",
       "        text-align: right;\n",
       "    }\n",
       "</style>\n",
       "<table border=\"1\" class=\"dataframe\">\n",
       "  <thead>\n",
       "    <tr style=\"text-align: right;\">\n",
       "      <th></th>\n",
       "      <th>Item_Weight</th>\n",
       "      <th>Item_Visibility</th>\n",
       "      <th>Item_MRP</th>\n",
       "      <th>Outlet_Establishment_Year</th>\n",
       "      <th>Item_Outlet_Sales</th>\n",
       "    </tr>\n",
       "  </thead>\n",
       "  <tbody>\n",
       "    <tr>\n",
       "      <th>count</th>\n",
       "      <td>7060.000000</td>\n",
       "      <td>8523.000000</td>\n",
       "      <td>8523.000000</td>\n",
       "      <td>8523.000000</td>\n",
       "      <td>8523.000000</td>\n",
       "    </tr>\n",
       "    <tr>\n",
       "      <th>mean</th>\n",
       "      <td>12.857645</td>\n",
       "      <td>0.066132</td>\n",
       "      <td>140.992782</td>\n",
       "      <td>1997.831867</td>\n",
       "      <td>2181.288914</td>\n",
       "    </tr>\n",
       "    <tr>\n",
       "      <th>std</th>\n",
       "      <td>4.643456</td>\n",
       "      <td>0.051598</td>\n",
       "      <td>62.275067</td>\n",
       "      <td>8.371760</td>\n",
       "      <td>1706.499616</td>\n",
       "    </tr>\n",
       "    <tr>\n",
       "      <th>min</th>\n",
       "      <td>4.555000</td>\n",
       "      <td>0.000000</td>\n",
       "      <td>31.290000</td>\n",
       "      <td>1985.000000</td>\n",
       "      <td>33.290000</td>\n",
       "    </tr>\n",
       "    <tr>\n",
       "      <th>25%</th>\n",
       "      <td>8.773750</td>\n",
       "      <td>0.026989</td>\n",
       "      <td>93.826500</td>\n",
       "      <td>1987.000000</td>\n",
       "      <td>834.247400</td>\n",
       "    </tr>\n",
       "    <tr>\n",
       "      <th>50%</th>\n",
       "      <td>12.600000</td>\n",
       "      <td>0.053931</td>\n",
       "      <td>143.012800</td>\n",
       "      <td>1999.000000</td>\n",
       "      <td>1794.331000</td>\n",
       "    </tr>\n",
       "    <tr>\n",
       "      <th>75%</th>\n",
       "      <td>16.850000</td>\n",
       "      <td>0.094585</td>\n",
       "      <td>185.643700</td>\n",
       "      <td>2004.000000</td>\n",
       "      <td>3101.296400</td>\n",
       "    </tr>\n",
       "    <tr>\n",
       "      <th>max</th>\n",
       "      <td>21.350000</td>\n",
       "      <td>0.328391</td>\n",
       "      <td>266.888400</td>\n",
       "      <td>2009.000000</td>\n",
       "      <td>13086.964800</td>\n",
       "    </tr>\n",
       "  </tbody>\n",
       "</table>\n",
       "</div>"
      ],
      "text/plain": [
       "       Item_Weight  Item_Visibility     Item_MRP  Outlet_Establishment_Year  \\\n",
       "count  7060.000000      8523.000000  8523.000000                8523.000000   \n",
       "mean     12.857645         0.066132   140.992782                1997.831867   \n",
       "std       4.643456         0.051598    62.275067                   8.371760   \n",
       "min       4.555000         0.000000    31.290000                1985.000000   \n",
       "25%       8.773750         0.026989    93.826500                1987.000000   \n",
       "50%      12.600000         0.053931   143.012800                1999.000000   \n",
       "75%      16.850000         0.094585   185.643700                2004.000000   \n",
       "max      21.350000         0.328391   266.888400                2009.000000   \n",
       "\n",
       "       Item_Outlet_Sales  \n",
       "count        8523.000000  \n",
       "mean         2181.288914  \n",
       "std          1706.499616  \n",
       "min            33.290000  \n",
       "25%           834.247400  \n",
       "50%          1794.331000  \n",
       "75%          3101.296400  \n",
       "max         13086.964800  "
      ]
     },
     "execution_count": 5,
     "metadata": {},
     "output_type": "execute_result"
    }
   ],
   "source": [
    "data.describe()"
   ]
  },
  {
   "cell_type": "code",
   "execution_count": 6,
   "id": "b203ed8a",
   "metadata": {},
   "outputs": [
    {
     "name": "stdout",
     "output_type": "stream",
     "text": [
      "<class 'pandas.core.frame.DataFrame'>\n",
      "RangeIndex: 8523 entries, 0 to 8522\n",
      "Data columns (total 12 columns):\n",
      " #   Column                     Non-Null Count  Dtype  \n",
      "---  ------                     --------------  -----  \n",
      " 0   Item_Identifier            8523 non-null   object \n",
      " 1   Item_Weight                7060 non-null   float64\n",
      " 2   Item_Fat_Content           8523 non-null   object \n",
      " 3   Item_Visibility            8523 non-null   float64\n",
      " 4   Item_Type                  8523 non-null   object \n",
      " 5   Item_MRP                   8523 non-null   float64\n",
      " 6   Outlet_Identifier          8523 non-null   object \n",
      " 7   Outlet_Establishment_Year  8523 non-null   int64  \n",
      " 8   Outlet_Size                6113 non-null   object \n",
      " 9   Outlet_Location_Type       8523 non-null   object \n",
      " 10  Outlet_Type                8523 non-null   object \n",
      " 11  Item_Outlet_Sales          8523 non-null   float64\n",
      "dtypes: float64(4), int64(1), object(7)\n",
      "memory usage: 799.2+ KB\n"
     ]
    }
   ],
   "source": [
    "data.info()"
   ]
  },
  {
   "cell_type": "markdown",
   "id": "fdf88f1c",
   "metadata": {},
   "source": [
    "Data Description:\n",
    "The dataset has 8523 entries with 12 columns  \n",
    "collected date:2013  \n",
    "\n",
    "Item_Identifier: Unique product ID\n",
    "\n",
    "Item_Weight: Weight of product\n",
    "\n",
    "Item_Fat_Content: Checks the Concentration of fat in the product\n",
    "\n",
    "Item_Visibility: The % of total display area of all similar products in a store\n",
    "\n",
    "Item_Type: Product Category\n",
    "\n",
    "Item_MRP: Maximum Retail Price for a Product\n",
    "\n",
    "Outlet_Identifier: Store ID\n",
    "\n",
    "Outlet_Establishment_Year: The year in which store was established\n",
    "\n",
    "Outlet_Size: The size of the store (Area Size Category)\n",
    "\n",
    "Outlet_Location_Type: In Terms of city Tiers (Size)\n",
    "\n",
    "Outlet_Type: Grocery store or a type of supermarket\n",
    "\n",
    "Item_Outlet_Sales: Sales of the product In the Specific outlet\n"
   ]
  },
  {
   "cell_type": "code",
   "execution_count": 7,
   "id": "0f28d907",
   "metadata": {
    "scrolled": true
   },
   "outputs": [
    {
     "data": {
      "text/plain": [
       "Item_Identifier                 0\n",
       "Item_Weight                  1463\n",
       "Item_Fat_Content                0\n",
       "Item_Visibility                 0\n",
       "Item_Type                       0\n",
       "Item_MRP                        0\n",
       "Outlet_Identifier               0\n",
       "Outlet_Establishment_Year       0\n",
       "Outlet_Size                  2410\n",
       "Outlet_Location_Type            0\n",
       "Outlet_Type                     0\n",
       "Item_Outlet_Sales               0\n",
       "dtype: int64"
      ]
     },
     "execution_count": 7,
     "metadata": {},
     "output_type": "execute_result"
    }
   ],
   "source": [
    "#Check null values\n",
    "np.sum(data.isnull())"
   ]
  },
  {
   "cell_type": "markdown",
   "id": "ac670b67",
   "metadata": {},
   "source": [
    "Item_Weight,Outlet_Size\n"
   ]
  },
  {
   "cell_type": "code",
   "execution_count": 8,
   "id": "d263b4e8",
   "metadata": {},
   "outputs": [
    {
     "data": {
      "text/plain": [
       "0"
      ]
     },
     "execution_count": 8,
     "metadata": {},
     "output_type": "execute_result"
    }
   ],
   "source": [
    "#Check if there is duplicate rows\n",
    "np.sum(data.duplicated())"
   ]
  },
  {
   "cell_type": "code",
   "execution_count": 9,
   "id": "b95b125b",
   "metadata": {},
   "outputs": [
    {
     "data": {
      "image/png": "[encoded data removed]",
      "text/plain": [
       "<Figure size 1200x900 with 5 Axes>"
      ]
     },
     "metadata": {},
     "output_type": "display_data"
    }
   ],
   "source": [
    "#Histogram of numeric variables\n",
    "var_num_ind = [1,3,5,7,11]\n",
    "plt.figure(figsize = (12, 9))\n",
    "plt.subplots_adjust(hspace = 0.4, wspace = 0.4)\n",
    "for i in range(1, 6):\n",
    "    plt.subplot(3,2, i)\n",
    "    plt.hist(x = data.iloc[: , var_num_ind[i - 1]], alpha = 0.4, color = 'red')\n",
    "    plt.title(data.columns[var_num_ind[i - 1]])"
   ]
  },
  {
   "cell_type": "markdown",
   "id": "3b96a547",
   "metadata": {},
   "source": [
    "The distribution of response variable (Item_Outlet_Sales) is skewed right"
   ]
  },
  {
   "cell_type": "code",
   "execution_count": 10,
   "id": "8a3c8a6f",
   "metadata": {},
   "outputs": [
    {
     "data": {
      "text/html": [
       "<div>\n",
       "<style scoped>\n",
       "    .dataframe tbody tr th:only-of-type {\n",
       "        vertical-align: middle;\n",
       "    }\n",
       "\n",
       "    .dataframe tbody tr th {\n",
       "        vertical-align: top;\n",
       "    }\n",
       "\n",
       "    .dataframe thead th {\n",
       "        text-align: right;\n",
       "    }\n",
       "</style>\n",
       "<table border=\"1\" class=\"dataframe\">\n",
       "  <thead>\n",
       "    <tr style=\"text-align: right;\">\n",
       "      <th></th>\n",
       "      <th>Item_Weight</th>\n",
       "      <th>Item_Visibility</th>\n",
       "      <th>Item_MRP</th>\n",
       "      <th>Outlet_Establishment_Year</th>\n",
       "      <th>Item_Outlet_Sales</th>\n",
       "    </tr>\n",
       "  </thead>\n",
       "  <tbody>\n",
       "    <tr>\n",
       "      <th>count</th>\n",
       "      <td>7060.000000</td>\n",
       "      <td>8523.000000</td>\n",
       "      <td>8523.000000</td>\n",
       "      <td>8523.000000</td>\n",
       "      <td>8523.000000</td>\n",
       "    </tr>\n",
       "    <tr>\n",
       "      <th>mean</th>\n",
       "      <td>12.857645</td>\n",
       "      <td>0.066132</td>\n",
       "      <td>140.992782</td>\n",
       "      <td>1997.831867</td>\n",
       "      <td>2181.288914</td>\n",
       "    </tr>\n",
       "    <tr>\n",
       "      <th>std</th>\n",
       "      <td>4.643456</td>\n",
       "      <td>0.051598</td>\n",
       "      <td>62.275067</td>\n",
       "      <td>8.371760</td>\n",
       "      <td>1706.499616</td>\n",
       "    </tr>\n",
       "    <tr>\n",
       "      <th>min</th>\n",
       "      <td>4.555000</td>\n",
       "      <td>0.000000</td>\n",
       "      <td>31.290000</td>\n",
       "      <td>1985.000000</td>\n",
       "      <td>33.290000</td>\n",
       "    </tr>\n",
       "    <tr>\n",
       "      <th>25%</th>\n",
       "      <td>8.773750</td>\n",
       "      <td>0.026989</td>\n",
       "      <td>93.826500</td>\n",
       "      <td>1987.000000</td>\n",
       "      <td>834.247400</td>\n",
       "    </tr>\n",
       "    <tr>\n",
       "      <th>50%</th>\n",
       "      <td>12.600000</td>\n",
       "      <td>0.053931</td>\n",
       "      <td>143.012800</td>\n",
       "      <td>1999.000000</td>\n",
       "      <td>1794.331000</td>\n",
       "    </tr>\n",
       "    <tr>\n",
       "      <th>75%</th>\n",
       "      <td>16.850000</td>\n",
       "      <td>0.094585</td>\n",
       "      <td>185.643700</td>\n",
       "      <td>2004.000000</td>\n",
       "      <td>3101.296400</td>\n",
       "    </tr>\n",
       "    <tr>\n",
       "      <th>max</th>\n",
       "      <td>21.350000</td>\n",
       "      <td>0.328391</td>\n",
       "      <td>266.888400</td>\n",
       "      <td>2009.000000</td>\n",
       "      <td>13086.964800</td>\n",
       "    </tr>\n",
       "  </tbody>\n",
       "</table>\n",
       "</div>"
      ],
      "text/plain": [
       "       Item_Weight  Item_Visibility     Item_MRP  Outlet_Establishment_Year  \\\n",
       "count  7060.000000      8523.000000  8523.000000                8523.000000   \n",
       "mean     12.857645         0.066132   140.992782                1997.831867   \n",
       "std       4.643456         0.051598    62.275067                   8.371760   \n",
       "min       4.555000         0.000000    31.290000                1985.000000   \n",
       "25%       8.773750         0.026989    93.826500                1987.000000   \n",
       "50%      12.600000         0.053931   143.012800                1999.000000   \n",
       "75%      16.850000         0.094585   185.643700                2004.000000   \n",
       "max      21.350000         0.328391   266.888400                2009.000000   \n",
       "\n",
       "       Item_Outlet_Sales  \n",
       "count        8523.000000  \n",
       "mean         2181.288914  \n",
       "std          1706.499616  \n",
       "min            33.290000  \n",
       "25%           834.247400  \n",
       "50%          1794.331000  \n",
       "75%          3101.296400  \n",
       "max         13086.964800  "
      ]
     },
     "execution_count": 10,
     "metadata": {},
     "output_type": "execute_result"
    }
   ],
   "source": [
    "#Summary statistics of numeric variables\n",
    "data.iloc[:, var_num_ind].describe()"
   ]
  },
  {
   "cell_type": "code",
   "execution_count": 11,
   "id": "dbeab996",
   "metadata": {},
   "outputs": [
    {
     "data": {
      "image/png": "[encoded data removed]",
      "text/plain": [
       "<Figure size 1500x900 with 5 Axes>"
      ]
     },
     "metadata": {},
     "output_type": "display_data"
    }
   ],
   "source": [
    "var_num_ind = [1,3,5,7,11,1]\n",
    "#Boxplot of numeric variables\n",
    "plt.figure(figsize = (15, 9))\n",
    "#plt.subplots_adjust(hspace = 0.4, wspace = 0.4)\n",
    "for i in range(1, 6):\n",
    "    plt.subplot(2, 3, i)\n",
    "    plt.boxplot(data.iloc[: , var_num_ind[i]])\n",
    "    plt.xticks([]) #remove the xticks \n",
    "    plt.title(data.columns[var_num_ind[i]])"
   ]
  },
  {
   "cell_type": "code",
   "execution_count": 12,
   "id": "c0dfefb2",
   "metadata": {},
   "outputs": [
    {
     "name": "stdout",
     "output_type": "stream",
     "text": [
      "FDW13    10\n",
      "FDG33    10\n",
      "NCY18     9\n",
      "FDD38     9\n",
      "DRE49     9\n",
      "         ..\n",
      "FDY43     1\n",
      "FDQ60     1\n",
      "FDO33     1\n",
      "DRF48     1\n",
      "FDC23     1\n",
      "Name: Item_Identifier, Length: 1559, dtype: int64\n",
      "----------------------------\n",
      "Low Fat    5089\n",
      "Regular    2889\n",
      "LF          316\n",
      "reg         117\n",
      "low fat     112\n",
      "Name: Item_Fat_Content, dtype: int64\n",
      "----------------------------\n",
      "Fruits and Vegetables    1232\n",
      "Snack Foods              1200\n",
      "Household                 910\n",
      "Frozen Foods              856\n",
      "Dairy                     682\n",
      "Canned                    649\n",
      "Baking Goods              648\n",
      "Health and Hygiene        520\n",
      "Soft Drinks               445\n",
      "Meat                      425\n",
      "Breads                    251\n",
      "Hard Drinks               214\n",
      "Others                    169\n",
      "Starchy Foods             148\n",
      "Breakfast                 110\n",
      "Seafood                    64\n",
      "Name: Item_Type, dtype: int64\n",
      "----------------------------\n",
      "OUT027    935\n",
      "OUT013    932\n",
      "OUT049    930\n",
      "OUT046    930\n",
      "OUT035    930\n",
      "OUT045    929\n",
      "OUT018    928\n",
      "OUT017    926\n",
      "OUT010    555\n",
      "OUT019    528\n",
      "Name: Outlet_Identifier, dtype: int64\n",
      "----------------------------\n",
      "Medium    2793\n",
      "Small     2388\n",
      "High       932\n",
      "Name: Outlet_Size, dtype: int64\n",
      "----------------------------\n",
      "Tier 3    3350\n",
      "Tier 2    2785\n",
      "Tier 1    2388\n",
      "Name: Outlet_Location_Type, dtype: int64\n",
      "----------------------------\n",
      "Supermarket Type1    5577\n",
      "Grocery Store        1083\n",
      "Supermarket Type3     935\n",
      "Supermarket Type2     928\n",
      "Name: Outlet_Type, dtype: int64\n",
      "----------------------------\n"
     ]
    }
   ],
   "source": [
    "#Find frequency of categories\n",
    "var_cat_col = ['Item_Identifier','Item_Fat_Content','Item_Type','Outlet_Identifier' , 'Outlet_Size', 'Outlet_Location_Type','Outlet_Type']\n",
    "for col in var_cat_col:\n",
    "   print (data[col].value_counts())\n",
    "   print('----------------------------')"
   ]
  },
  {
   "cell_type": "code",
   "execution_count": 13,
   "id": "336fe022",
   "metadata": {},
   "outputs": [],
   "source": [
    "# combining Item_Fat_Content misspelled\n",
    "data['Item_Fat_Content'].replace(['low fat','LF','reg'],['Low Fat','Low Fat','Regular'],inplace = True)"
   ]
  },
  {
   "cell_type": "code",
   "execution_count": 14,
   "id": "85ccbed5",
   "metadata": {},
   "outputs": [
    {
     "data": {
      "text/plain": [
       "Low Fat    5517\n",
       "Regular    3006\n",
       "Name: Item_Fat_Content, dtype: int64"
      ]
     },
     "execution_count": 14,
     "metadata": {},
     "output_type": "execute_result"
    }
   ],
   "source": [
    "(data['Item_Fat_Content'].value_counts())"
   ]
  },
  {
   "cell_type": "code",
   "execution_count": 15,
   "id": "7e9c28ea",
   "metadata": {},
   "outputs": [
    {
     "data": {
      "text/plain": [
       "count    8523.000000\n",
       "mean       15.168133\n",
       "std         8.371760\n",
       "min         4.000000\n",
       "25%         9.000000\n",
       "50%        14.000000\n",
       "75%        26.000000\n",
       "max        28.000000\n",
       "Name: Outlet_Years, dtype: float64"
      ]
     },
     "execution_count": 15,
     "metadata": {},
     "output_type": "execute_result"
    }
   ],
   "source": [
    "#Years:\n",
    "data['Outlet_Years'] = 2013 - data['Outlet_Establishment_Year']\n",
    "data['Outlet_Years'].describe()"
   ]
  },
  {
   "cell_type": "markdown",
   "id": "b73f02ba",
   "metadata": {},
   "source": [
    "We found two variables with missing values – Item_Weight and Outlet_Size. Lets impute the former by the average weight of the particular item.\n"
   ]
  },
  {
   "cell_type": "code",
   "execution_count": 16,
   "id": "d8c833c4",
   "metadata": {},
   "outputs": [],
   "source": [
    "# filling null values\n",
    "data['Item_Weight'].fillna(data['Item_Weight'].mean(),inplace = True)\n",
    "   "
   ]
  },
  {
   "cell_type": "code",
   "execution_count": 17,
   "id": "f2ec44b5",
   "metadata": {},
   "outputs": [
    {
     "data": {
      "text/plain": [
       "Outlet_Type        Outlet_Size\n",
       "Grocery Store      NaN             555\n",
       "                   Small           528\n",
       "Supermarket Type1  Small          1860\n",
       "                   NaN            1855\n",
       "                   High            932\n",
       "                   Medium          930\n",
       "Supermarket Type2  Medium          928\n",
       "Supermarket Type3  Medium          935\n",
       "Name: Outlet_Size, dtype: int64"
      ]
     },
     "execution_count": 17,
     "metadata": {},
     "output_type": "execute_result"
    }
   ],
   "source": [
    "data.groupby('Outlet_Type').Outlet_Size.value_counts(dropna=False)"
   ]
  },
  {
   "cell_type": "code",
   "execution_count": 18,
   "id": "04fb0744",
   "metadata": {},
   "outputs": [],
   "source": [
    "#Import mode function:\n",
    "from scipy.stats import mode\n",
    "#Determing the mode for each\n",
    "mode_outlet_size = data.pivot_table(values='Outlet_Size', columns='Outlet_Type', aggfunc=(lambda x: x.mode()[0]))\n",
    "mode_outlet_size\n",
    "#Get missing Item_Weight values\n",
    "miss_Outlet_Size = data['Outlet_Size'].isnull() \n",
    "data.loc[miss_Outlet_Size,'Outlet_Size'] = data.loc[miss_Outlet_Size,'Outlet_Type'].apply(lambda x: mode_outlet_size [x])\n"
   ]
  },
  {
   "cell_type": "code",
   "execution_count": 19,
   "id": "5a0182ea",
   "metadata": {},
   "outputs": [
    {
     "data": {
      "text/plain": [
       "Outlet_Type        Outlet_Size\n",
       "Grocery Store      Small          1083\n",
       "Supermarket Type1  Small          3715\n",
       "                   High            932\n",
       "                   Medium          930\n",
       "Supermarket Type2  Medium          928\n",
       "Supermarket Type3  Medium          935\n",
       "Name: Outlet_Size, dtype: int64"
      ]
     },
     "execution_count": 19,
     "metadata": {},
     "output_type": "execute_result"
    }
   ],
   "source": [
    "data.groupby('Outlet_Type').Outlet_Size.value_counts(dropna=False)"
   ]
  },
  {
   "cell_type": "code",
   "execution_count": 20,
   "id": "2971508d",
   "metadata": {},
   "outputs": [
    {
     "data": {
      "text/plain": [
       "Item_Identifier              0\n",
       "Item_Weight                  0\n",
       "Item_Fat_Content             0\n",
       "Item_Visibility              0\n",
       "Item_Type                    0\n",
       "Item_MRP                     0\n",
       "Outlet_Identifier            0\n",
       "Outlet_Establishment_Year    0\n",
       "Outlet_Size                  0\n",
       "Outlet_Location_Type         0\n",
       "Outlet_Type                  0\n",
       "Item_Outlet_Sales            0\n",
       "Outlet_Years                 0\n",
       "dtype: int64"
      ]
     },
     "execution_count": 20,
     "metadata": {},
     "output_type": "execute_result"
    }
   ],
   "source": [
    "#Check null values\n",
    "np.sum(data.isnull())"
   ]
  },
  {
   "cell_type": "code",
   "execution_count": 21,
   "id": "5ba08b78",
   "metadata": {},
   "outputs": [
    {
     "data": {
      "text/html": [
       "<div>\n",
       "<style scoped>\n",
       "    .dataframe tbody tr th:only-of-type {\n",
       "        vertical-align: middle;\n",
       "    }\n",
       "\n",
       "    .dataframe tbody tr th {\n",
       "        vertical-align: top;\n",
       "    }\n",
       "\n",
       "    .dataframe thead th {\n",
       "        text-align: right;\n",
       "    }\n",
       "</style>\n",
       "<table border=\"1\" class=\"dataframe\">\n",
       "  <thead>\n",
       "    <tr style=\"text-align: right;\">\n",
       "      <th></th>\n",
       "      <th>Item_Weight</th>\n",
       "      <th>Item_Visibility</th>\n",
       "      <th>Item_MRP</th>\n",
       "      <th>Outlet_Establishment_Year</th>\n",
       "      <th>Item_Outlet_Sales</th>\n",
       "      <th>Outlet_Years</th>\n",
       "    </tr>\n",
       "  </thead>\n",
       "  <tbody>\n",
       "    <tr>\n",
       "      <th>count</th>\n",
       "      <td>8523.000000</td>\n",
       "      <td>8523.000000</td>\n",
       "      <td>8523.000000</td>\n",
       "      <td>8523.000000</td>\n",
       "      <td>8523.000000</td>\n",
       "      <td>8523.000000</td>\n",
       "    </tr>\n",
       "    <tr>\n",
       "      <th>mean</th>\n",
       "      <td>12.857645</td>\n",
       "      <td>0.066132</td>\n",
       "      <td>140.992782</td>\n",
       "      <td>1997.831867</td>\n",
       "      <td>2181.288914</td>\n",
       "      <td>15.168133</td>\n",
       "    </tr>\n",
       "    <tr>\n",
       "      <th>std</th>\n",
       "      <td>4.226124</td>\n",
       "      <td>0.051598</td>\n",
       "      <td>62.275067</td>\n",
       "      <td>8.371760</td>\n",
       "      <td>1706.499616</td>\n",
       "      <td>8.371760</td>\n",
       "    </tr>\n",
       "    <tr>\n",
       "      <th>min</th>\n",
       "      <td>4.555000</td>\n",
       "      <td>0.000000</td>\n",
       "      <td>31.290000</td>\n",
       "      <td>1985.000000</td>\n",
       "      <td>33.290000</td>\n",
       "      <td>4.000000</td>\n",
       "    </tr>\n",
       "    <tr>\n",
       "      <th>25%</th>\n",
       "      <td>9.310000</td>\n",
       "      <td>0.026989</td>\n",
       "      <td>93.826500</td>\n",
       "      <td>1987.000000</td>\n",
       "      <td>834.247400</td>\n",
       "      <td>9.000000</td>\n",
       "    </tr>\n",
       "    <tr>\n",
       "      <th>50%</th>\n",
       "      <td>12.857645</td>\n",
       "      <td>0.053931</td>\n",
       "      <td>143.012800</td>\n",
       "      <td>1999.000000</td>\n",
       "      <td>1794.331000</td>\n",
       "      <td>14.000000</td>\n",
       "    </tr>\n",
       "    <tr>\n",
       "      <th>75%</th>\n",
       "      <td>16.000000</td>\n",
       "      <td>0.094585</td>\n",
       "      <td>185.643700</td>\n",
       "      <td>2004.000000</td>\n",
       "      <td>3101.296400</td>\n",
       "      <td>26.000000</td>\n",
       "    </tr>\n",
       "    <tr>\n",
       "      <th>max</th>\n",
       "      <td>21.350000</td>\n",
       "      <td>0.328391</td>\n",
       "      <td>266.888400</td>\n",
       "      <td>2009.000000</td>\n",
       "      <td>13086.964800</td>\n",
       "      <td>28.000000</td>\n",
       "    </tr>\n",
       "  </tbody>\n",
       "</table>\n",
       "</div>"
      ],
      "text/plain": [
       "       Item_Weight  Item_Visibility     Item_MRP  Outlet_Establishment_Year  \\\n",
       "count  8523.000000      8523.000000  8523.000000                8523.000000   \n",
       "mean     12.857645         0.066132   140.992782                1997.831867   \n",
       "std       4.226124         0.051598    62.275067                   8.371760   \n",
       "min       4.555000         0.000000    31.290000                1985.000000   \n",
       "25%       9.310000         0.026989    93.826500                1987.000000   \n",
       "50%      12.857645         0.053931   143.012800                1999.000000   \n",
       "75%      16.000000         0.094585   185.643700                2004.000000   \n",
       "max      21.350000         0.328391   266.888400                2009.000000   \n",
       "\n",
       "       Item_Outlet_Sales  Outlet_Years  \n",
       "count        8523.000000   8523.000000  \n",
       "mean         2181.288914     15.168133  \n",
       "std          1706.499616      8.371760  \n",
       "min            33.290000      4.000000  \n",
       "25%           834.247400      9.000000  \n",
       "50%          1794.331000     14.000000  \n",
       "75%          3101.296400     26.000000  \n",
       "max         13086.964800     28.000000  "
      ]
     },
     "execution_count": 21,
     "metadata": {},
     "output_type": "execute_result"
    }
   ],
   "source": [
    "data.describe()"
   ]
  },
  {
   "cell_type": "code",
   "execution_count": 22,
   "id": "484567a7",
   "metadata": {},
   "outputs": [
    {
     "data": {
      "text/html": [
       "<div>\n",
       "<style scoped>\n",
       "    .dataframe tbody tr th:only-of-type {\n",
       "        vertical-align: middle;\n",
       "    }\n",
       "\n",
       "    .dataframe tbody tr th {\n",
       "        vertical-align: top;\n",
       "    }\n",
       "\n",
       "    .dataframe thead th {\n",
       "        text-align: right;\n",
       "    }\n",
       "</style>\n",
       "<table border=\"1\" class=\"dataframe\">\n",
       "  <thead>\n",
       "    <tr style=\"text-align: right;\">\n",
       "      <th></th>\n",
       "      <th>Item_Weight</th>\n",
       "      <th>Item_Visibility</th>\n",
       "      <th>Item_MRP</th>\n",
       "      <th>Outlet_Establishment_Year</th>\n",
       "      <th>Item_Outlet_Sales</th>\n",
       "      <th>Item_Weight</th>\n",
       "    </tr>\n",
       "  </thead>\n",
       "  <tbody>\n",
       "    <tr>\n",
       "      <th>Item_Weight</th>\n",
       "      <td>1.00</td>\n",
       "      <td>-0.01</td>\n",
       "      <td>0.02</td>\n",
       "      <td>-0.01</td>\n",
       "      <td>0.01</td>\n",
       "      <td>1.00</td>\n",
       "    </tr>\n",
       "    <tr>\n",
       "      <th>Item_Visibility</th>\n",
       "      <td>-0.01</td>\n",
       "      <td>1.00</td>\n",
       "      <td>-0.00</td>\n",
       "      <td>-0.07</td>\n",
       "      <td>-0.13</td>\n",
       "      <td>-0.01</td>\n",
       "    </tr>\n",
       "    <tr>\n",
       "      <th>Item_MRP</th>\n",
       "      <td>0.02</td>\n",
       "      <td>-0.00</td>\n",
       "      <td>1.00</td>\n",
       "      <td>0.01</td>\n",
       "      <td>0.57</td>\n",
       "      <td>0.02</td>\n",
       "    </tr>\n",
       "    <tr>\n",
       "      <th>Outlet_Establishment_Year</th>\n",
       "      <td>-0.01</td>\n",
       "      <td>-0.07</td>\n",
       "      <td>0.01</td>\n",
       "      <td>1.00</td>\n",
       "      <td>-0.05</td>\n",
       "      <td>-0.01</td>\n",
       "    </tr>\n",
       "    <tr>\n",
       "      <th>Item_Outlet_Sales</th>\n",
       "      <td>0.01</td>\n",
       "      <td>-0.13</td>\n",
       "      <td>0.57</td>\n",
       "      <td>-0.05</td>\n",
       "      <td>1.00</td>\n",
       "      <td>0.01</td>\n",
       "    </tr>\n",
       "    <tr>\n",
       "      <th>Item_Weight</th>\n",
       "      <td>1.00</td>\n",
       "      <td>-0.01</td>\n",
       "      <td>0.02</td>\n",
       "      <td>-0.01</td>\n",
       "      <td>0.01</td>\n",
       "      <td>1.00</td>\n",
       "    </tr>\n",
       "  </tbody>\n",
       "</table>\n",
       "</div>"
      ],
      "text/plain": [
       "                           Item_Weight  Item_Visibility  Item_MRP  \\\n",
       "Item_Weight                       1.00            -0.01      0.02   \n",
       "Item_Visibility                  -0.01             1.00     -0.00   \n",
       "Item_MRP                          0.02            -0.00      1.00   \n",
       "Outlet_Establishment_Year        -0.01            -0.07      0.01   \n",
       "Item_Outlet_Sales                 0.01            -0.13      0.57   \n",
       "Item_Weight                       1.00            -0.01      0.02   \n",
       "\n",
       "                           Outlet_Establishment_Year  Item_Outlet_Sales  \\\n",
       "Item_Weight                                    -0.01               0.01   \n",
       "Item_Visibility                                -0.07              -0.13   \n",
       "Item_MRP                                        0.01               0.57   \n",
       "Outlet_Establishment_Year                       1.00              -0.05   \n",
       "Item_Outlet_Sales                              -0.05               1.00   \n",
       "Item_Weight                                    -0.01               0.01   \n",
       "\n",
       "                           Item_Weight  \n",
       "Item_Weight                       1.00  \n",
       "Item_Visibility                  -0.01  \n",
       "Item_MRP                          0.02  \n",
       "Outlet_Establishment_Year        -0.01  \n",
       "Item_Outlet_Sales                 0.01  \n",
       "Item_Weight                       1.00  "
      ]
     },
     "execution_count": 22,
     "metadata": {},
     "output_type": "execute_result"
    }
   ],
   "source": [
    "#Correlation analysis\n",
    "corr_table = round(data.iloc[:, var_num_ind].corr(method = 'pearson'), 2)\n",
    "corr_table\n"
   ]
  },
  {
   "cell_type": "code",
   "execution_count": 23,
   "id": "76efdf21",
   "metadata": {},
   "outputs": [],
   "source": [
    "data.drop(['Outlet_Years'], axis=1, inplace= True)"
   ]
  },
  {
   "cell_type": "code",
   "execution_count": 24,
   "id": "10f44ff8",
   "metadata": {},
   "outputs": [
    {
     "data": {
      "text/plain": [
       "FDW13    10\n",
       "FDG33    10\n",
       "NCY18     9\n",
       "FDD38     9\n",
       "DRE49     9\n",
       "         ..\n",
       "FDY43     1\n",
       "FDQ60     1\n",
       "FDO33     1\n",
       "DRF48     1\n",
       "FDC23     1\n",
       "Name: Item_Identifier, Length: 1559, dtype: int64"
      ]
     },
     "execution_count": 24,
     "metadata": {},
     "output_type": "execute_result"
    }
   ],
   "source": [
    "data['Item_Identifier'].value_counts()"
   ]
  },
  {
   "cell_type": "code",
   "execution_count": 25,
   "id": "d81bfc4d",
   "metadata": {},
   "outputs": [],
   "source": [
    "data['Item_Type_New'] = data['Item_Identifier'].apply(lambda x: x[0:2])"
   ]
  },
  {
   "cell_type": "code",
   "execution_count": 26,
   "id": "5a742d38",
   "metadata": {},
   "outputs": [
    {
     "data": {
      "text/plain": [
       "FD    6125\n",
       "NC    1599\n",
       "DR     799\n",
       "Name: Item_Type_New, dtype: int64"
      ]
     },
     "execution_count": 26,
     "metadata": {},
     "output_type": "execute_result"
    }
   ],
   "source": [
    "data['Item_Type_New'].value_counts()"
   ]
  },
  {
   "cell_type": "markdown",
   "id": "aa6c1e3a",
   "metadata": {},
   "source": [
    "FD : Freeze Dried\n",
    "NC : Non Consumable\n",
    "DR : Drinks"
   ]
  },
  {
   "cell_type": "code",
   "execution_count": 27,
   "id": "15023f7a",
   "metadata": {},
   "outputs": [],
   "source": [
    "from sklearn.preprocessing import LabelEncoder\n",
    "LE = LabelEncoder()\n",
    "#New number column for Outlet_Identifier\n",
    "data['Outlet_Num'] = LE.fit_transform(data['Outlet_Identifier'])\n",
    "cat_col = ['Outlet_Type','Outlet_Location_Type','Outlet_Size','Item_Type_New','Item_Fat_Content']\n",
    "LE = LabelEncoder()\n",
    "for i in cat_col:\n",
    "    data[i] = LE.fit_transform(data[i])"
   ]
  },
  {
   "cell_type": "code",
   "execution_count": 28,
   "id": "669b8a2e",
   "metadata": {},
   "outputs": [
    {
     "data": {
      "text/plain": [
       "0       9\n",
       "1       3\n",
       "2       9\n",
       "3       0\n",
       "4       1\n",
       "       ..\n",
       "8518    1\n",
       "8519    7\n",
       "8520    6\n",
       "8521    3\n",
       "8522    8\n",
       "Name: Outlet_Num, Length: 8523, dtype: int32"
      ]
     },
     "execution_count": 28,
     "metadata": {},
     "output_type": "execute_result"
    }
   ],
   "source": [
    "data['Outlet_Num']"
   ]
  },
  {
   "cell_type": "code",
   "execution_count": 29,
   "id": "3f0320c7",
   "metadata": {},
   "outputs": [],
   "source": [
    "data = pd.get_dummies(data, columns=['Outlet_Num','Outlet_Location_Type','Outlet_Size','Outlet_Type','Item_Fat_Content',\n",
    "                                     'Item_Type_New'])"
   ]
  },
  {
   "cell_type": "code",
   "execution_count": 30,
   "id": "f8548607",
   "metadata": {},
   "outputs": [
    {
     "name": "stdout",
     "output_type": "stream",
     "text": [
      "<class 'pandas.core.frame.DataFrame'>\n",
      "RangeIndex: 8523 entries, 0 to 8522\n",
      "Data columns (total 33 columns):\n",
      " #   Column                     Non-Null Count  Dtype  \n",
      "---  ------                     --------------  -----  \n",
      " 0   Item_Identifier            8523 non-null   object \n",
      " 1   Item_Weight                8523 non-null   float64\n",
      " 2   Item_Visibility            8523 non-null   float64\n",
      " 3   Item_Type                  8523 non-null   object \n",
      " 4   Item_MRP                   8523 non-null   float64\n",
      " 5   Outlet_Identifier          8523 non-null   object \n",
      " 6   Outlet_Establishment_Year  8523 non-null   int64  \n",
      " 7   Item_Outlet_Sales          8523 non-null   float64\n",
      " 8   Outlet_Num_0               8523 non-null   uint8  \n",
      " 9   Outlet_Num_1               8523 non-null   uint8  \n",
      " 10  Outlet_Num_2               8523 non-null   uint8  \n",
      " 11  Outlet_Num_3               8523 non-null   uint8  \n",
      " 12  Outlet_Num_4               8523 non-null   uint8  \n",
      " 13  Outlet_Num_5               8523 non-null   uint8  \n",
      " 14  Outlet_Num_6               8523 non-null   uint8  \n",
      " 15  Outlet_Num_7               8523 non-null   uint8  \n",
      " 16  Outlet_Num_8               8523 non-null   uint8  \n",
      " 17  Outlet_Num_9               8523 non-null   uint8  \n",
      " 18  Outlet_Location_Type_0     8523 non-null   uint8  \n",
      " 19  Outlet_Location_Type_1     8523 non-null   uint8  \n",
      " 20  Outlet_Location_Type_2     8523 non-null   uint8  \n",
      " 21  Outlet_Size_0              8523 non-null   uint8  \n",
      " 22  Outlet_Size_1              8523 non-null   uint8  \n",
      " 23  Outlet_Size_2              8523 non-null   uint8  \n",
      " 24  Outlet_Type_0              8523 non-null   uint8  \n",
      " 25  Outlet_Type_1              8523 non-null   uint8  \n",
      " 26  Outlet_Type_2              8523 non-null   uint8  \n",
      " 27  Outlet_Type_3              8523 non-null   uint8  \n",
      " 28  Item_Fat_Content_0         8523 non-null   uint8  \n",
      " 29  Item_Fat_Content_1         8523 non-null   uint8  \n",
      " 30  Item_Type_New_0            8523 non-null   uint8  \n",
      " 31  Item_Type_New_1            8523 non-null   uint8  \n",
      " 32  Item_Type_New_2            8523 non-null   uint8  \n",
      "dtypes: float64(4), int64(1), object(3), uint8(25)\n",
      "memory usage: 740.9+ KB\n"
     ]
    }
   ],
   "source": [
    "data.info()"
   ]
  },
  {
   "cell_type": "code",
   "execution_count": 31,
   "id": "d7cbde31",
   "metadata": {},
   "outputs": [],
   "source": [
    "data.drop(['Outlet_Num_0','Item_Fat_Content_0','Outlet_Location_Type_0','Outlet_Size_0','Outlet_Type_0',\n",
    "          'Item_Type_New_0'], axis=1, inplace= True)"
   ]
  },
  {
   "cell_type": "code",
   "execution_count": 32,
   "id": "dfe4d24f",
   "metadata": {},
   "outputs": [],
   "source": [
    "X=data.drop(columns = ['Item_Identifier','Item_Type','Outlet_Identifier','Item_Outlet_Sales'])\n",
    "y=data['Item_Outlet_Sales']"
   ]
  },
  {
   "cell_type": "code",
   "execution_count": 33,
   "id": "5bb44165",
   "metadata": {},
   "outputs": [],
   "source": [
    "from sklearn.model_selection import train_test_split\n",
    "X_train, X_test, y_train, y_test = train_test_split(X, y, test_size=0.25, random_state=42)"
   ]
  },
  {
   "cell_type": "code",
   "execution_count": 34,
   "id": "02958e80",
   "metadata": {},
   "outputs": [
    {
     "data": {
      "text/html": [
       "<style>#sk-container-id-1 {color: black;}#sk-container-id-1 pre{padding: 0;}#sk-container-id-1 div.sk-toggleable {background-color: white;}#sk-container-id-1 label.sk-toggleable__label {cursor: pointer;display: block;width: 100%;margin-bottom: 0;padding: 0.3em;box-sizing: border-box;text-align: center;}#sk-container-id-1 label.sk-toggleable__label-arrow:before {content: \"▸\";float: left;margin-right: 0.25em;color: #696969;}#sk-container-id-1 label.sk-toggleable__label-arrow:hover:before {color: black;}#sk-container-id-1 div.sk-estimator:hover label.sk-toggleable__label-arrow:before {color: black;}#sk-container-id-1 div.sk-toggleable__content {max-height: 0;max-width: 0;overflow: hidden;text-align: left;background-color: #f0f8ff;}#sk-container-id-1 div.sk-toggleable__content pre {margin: 0.2em;color: black;border-radius: 0.25em;background-color: #f0f8ff;}#sk-container-id-1 input.sk-toggleable__control:checked~div.sk-toggleable__content {max-height: 200px;max-width: 100%;overflow: auto;}#sk-container-id-1 input.sk-toggleable__control:checked~label.sk-toggleable__label-arrow:before {content: \"▾\";}#sk-container-id-1 div.sk-estimator input.sk-toggleable__control:checked~label.sk-toggleable__label {background-color: #d4ebff;}#sk-container-id-1 div.sk-label input.sk-toggleable__control:checked~label.sk-toggleable__label {background-color: #d4ebff;}#sk-container-id-1 input.sk-hidden--visually {border: 0;clip: rect(1px 1px 1px 1px);clip: rect(1px, 1px, 1px, 1px);height: 1px;margin: -1px;overflow: hidden;padding: 0;position: absolute;width: 1px;}#sk-container-id-1 div.sk-estimator {font-family: monospace;background-color: #f0f8ff;border: 1px dotted black;border-radius: 0.25em;box-sizing: border-box;margin-bottom: 0.5em;}#sk-container-id-1 div.sk-estimator:hover {background-color: #d4ebff;}#sk-container-id-1 div.sk-parallel-item::after {content: \"\";width: 100%;border-bottom: 1px solid gray;flex-grow: 1;}#sk-container-id-1 div.sk-label:hover label.sk-toggleable__label {background-color: #d4ebff;}#sk-container-id-1 div.sk-serial::before {content: \"\";position: absolute;border-left: 1px solid gray;box-sizing: border-box;top: 0;bottom: 0;left: 50%;z-index: 0;}#sk-container-id-1 div.sk-serial {display: flex;flex-direction: column;align-items: center;background-color: white;padding-right: 0.2em;padding-left: 0.2em;position: relative;}#sk-container-id-1 div.sk-item {position: relative;z-index: 1;}#sk-container-id-1 div.sk-parallel {display: flex;align-items: stretch;justify-content: center;background-color: white;position: relative;}#sk-container-id-1 div.sk-item::before, #sk-container-id-1 div.sk-parallel-item::before {content: \"\";position: absolute;border-left: 1px solid gray;box-sizing: border-box;top: 0;bottom: 0;left: 50%;z-index: -1;}#sk-container-id-1 div.sk-parallel-item {display: flex;flex-direction: column;z-index: 1;position: relative;background-color: white;}#sk-container-id-1 div.sk-parallel-item:first-child::after {align-self: flex-end;width: 50%;}#sk-container-id-1 div.sk-parallel-item:last-child::after {align-self: flex-start;width: 50%;}#sk-container-id-1 div.sk-parallel-item:only-child::after {width: 0;}#sk-container-id-1 div.sk-dashed-wrapped {border: 1px dashed gray;margin: 0 0.4em 0.5em 0.4em;box-sizing: border-box;padding-bottom: 0.4em;background-color: white;}#sk-container-id-1 div.sk-label label {font-family: monospace;font-weight: bold;display: inline-block;line-height: 1.2em;}#sk-container-id-1 div.sk-label-container {text-align: center;}#sk-container-id-1 div.sk-container {/* jupyter's `normalize.less` sets `[hidden] { display: none; }` but bootstrap.min.css set `[hidden] { display: none !important; }` so we also need the `!important` here to be able to override the default hidden behavior on the sphinx rendered scikit-learn.org. See: https://github.com/scikit-learn/scikit-learn/issues/21755 */display: inline-block !important;position: relative;}#sk-container-id-1 div.sk-text-repr-fallback {display: none;}</style><div id=\"sk-container-id-1\" class=\"sk-top-container\"><div class=\"sk-text-repr-fallback\"><pre>LinearRegression()</pre><b>In a Jupyter environment, please rerun this cell to show the HTML representation or trust the notebook. <br />On GitHub, the HTML representation is unable to render, please try loading this page with nbviewer.org.</b></div><div class=\"sk-container\" hidden><div class=\"sk-item\"><div class=\"sk-estimator sk-toggleable\"><input class=\"sk-toggleable__control sk-hidden--visually\" id=\"sk-estimator-id-1\" type=\"checkbox\" checked><label for=\"sk-estimator-id-1\" class=\"sk-toggleable__label sk-toggleable__label-arrow\">LinearRegression</label><div class=\"sk-toggleable__content\"><pre>LinearRegression()</pre></div></div></div></div></div>"
      ],
      "text/plain": [
       "LinearRegression()"
      ]
     },
     "execution_count": 34,
     "metadata": {},
     "output_type": "execute_result"
    }
   ],
   "source": [
    "from sklearn.linear_model import LinearRegression\n",
    "lreg = LinearRegression()\n",
    "lreg.fit(X_train, y_train)"
   ]
  },
  {
   "cell_type": "code",
   "execution_count": 35,
   "id": "017a912a",
   "metadata": {},
   "outputs": [],
   "source": [
    "y_predict_lreg = lreg.predict(X_test)"
   ]
  },
  {
   "cell_type": "code",
   "execution_count": 36,
   "id": "93023329",
   "metadata": {},
   "outputs": [],
   "source": [
    "from sklearn.metrics import r2_score"
   ]
  },
  {
   "cell_type": "code",
   "execution_count": 37,
   "id": "8f99e354",
   "metadata": {},
   "outputs": [
    {
     "data": {
      "text/plain": [
       "0.5694142727728146"
      ]
     },
     "execution_count": 37,
     "metadata": {},
     "output_type": "execute_result"
    }
   ],
   "source": [
    "r2_score(y_test, y_predict_lreg)"
   ]
  },
  {
   "cell_type": "code",
   "execution_count": 38,
   "id": "094aecac",
   "metadata": {},
   "outputs": [],
   "source": [
    "#Absolute error\n",
    "abs_err_reg = abs(y_test - y_predict_lreg)\n",
    "\n"
   ]
  },
  {
   "cell_type": "code",
   "execution_count": 39,
   "id": "64becf91",
   "metadata": {},
   "outputs": [
    {
     "data": {
      "text/html": [
       "<div>\n",
       "<style scoped>\n",
       "    .dataframe tbody tr th:only-of-type {\n",
       "        vertical-align: middle;\n",
       "    }\n",
       "\n",
       "    .dataframe tbody tr th {\n",
       "        vertical-align: top;\n",
       "    }\n",
       "\n",
       "    .dataframe thead th {\n",
       "        text-align: right;\n",
       "    }\n",
       "</style>\n",
       "<table border=\"1\" class=\"dataframe\">\n",
       "  <thead>\n",
       "    <tr style=\"text-align: right;\">\n",
       "      <th></th>\n",
       "      <th>R2 score</th>\n",
       "      <th>Mean of AbsErrors</th>\n",
       "      <th>Median of AbsErrors</th>\n",
       "      <th>SD of AbsErrors</th>\n",
       "      <th>IQR of AbsErrors</th>\n",
       "      <th>Min of AbsErrors</th>\n",
       "      <th>Max of AbsErrors</th>\n",
       "    </tr>\n",
       "  </thead>\n",
       "  <tbody>\n",
       "    <tr>\n",
       "      <th>LinearRegression</th>\n",
       "      <td>0.569414</td>\n",
       "      <td>802.405295</td>\n",
       "      <td>598.471733</td>\n",
       "      <td>737.819382</td>\n",
       "      <td>861.933773</td>\n",
       "      <td>0.616558</td>\n",
       "      <td>5484.392304</td>\n",
       "    </tr>\n",
       "  </tbody>\n",
       "</table>\n",
       "</div>"
      ],
      "text/plain": [
       "                  R2 score   Mean of AbsErrors  Median of AbsErrors  \\\n",
       "LinearRegression   0.569414         802.405295           598.471733   \n",
       "\n",
       "                  SD of AbsErrors  IQR of AbsErrors  Min of AbsErrors  \\\n",
       "LinearRegression       737.819382        861.933773          0.616558   \n",
       "\n",
       "                  Max of AbsErrors  \n",
       "LinearRegression       5484.392304  "
      ]
     },
     "execution_count": 39,
     "metadata": {},
     "output_type": "execute_result"
    }
   ],
   "source": [
    "#Absolute error mean, median, sd, IQR, max, min\n",
    "from scipy.stats import iqr\n",
    "models_comp = pd.DataFrame({'R2 score ':r2_score(y_test, y_predict_lreg),\n",
    "                            'Mean of AbsErrors':    abs_err_reg.mean(),\n",
    "                            'Median of AbsErrors' : abs_err_reg.median(),\n",
    "                            'SD of AbsErrors' :     abs_err_reg.std(),\n",
    "                            'IQR of AbsErrors':     iqr(abs_err_reg),\n",
    "                            'Min of AbsErrors':     abs_err_reg.min(),\n",
    "                            'Max of AbsErrors':     abs_err_reg.max()}, \n",
    "                           index = ['LinearRegression'])\n",
    "models_comp"
   ]
  },
  {
   "cell_type": "code",
   "execution_count": 40,
   "id": "c56c6e89",
   "metadata": {},
   "outputs": [
    {
     "data": {
      "text/html": [
       "<style>#sk-container-id-2 {color: black;}#sk-container-id-2 pre{padding: 0;}#sk-container-id-2 div.sk-toggleable {background-color: white;}#sk-container-id-2 label.sk-toggleable__label {cursor: pointer;display: block;width: 100%;margin-bottom: 0;padding: 0.3em;box-sizing: border-box;text-align: center;}#sk-container-id-2 label.sk-toggleable__label-arrow:before {content: \"▸\";float: left;margin-right: 0.25em;color: #696969;}#sk-container-id-2 label.sk-toggleable__label-arrow:hover:before {color: black;}#sk-container-id-2 div.sk-estimator:hover label.sk-toggleable__label-arrow:before {color: black;}#sk-container-id-2 div.sk-toggleable__content {max-height: 0;max-width: 0;overflow: hidden;text-align: left;background-color: #f0f8ff;}#sk-container-id-2 div.sk-toggleable__content pre {margin: 0.2em;color: black;border-radius: 0.25em;background-color: #f0f8ff;}#sk-container-id-2 input.sk-toggleable__control:checked~div.sk-toggleable__content {max-height: 200px;max-width: 100%;overflow: auto;}#sk-container-id-2 input.sk-toggleable__control:checked~label.sk-toggleable__label-arrow:before {content: \"▾\";}#sk-container-id-2 div.sk-estimator input.sk-toggleable__control:checked~label.sk-toggleable__label {background-color: #d4ebff;}#sk-container-id-2 div.sk-label input.sk-toggleable__control:checked~label.sk-toggleable__label {background-color: #d4ebff;}#sk-container-id-2 input.sk-hidden--visually {border: 0;clip: rect(1px 1px 1px 1px);clip: rect(1px, 1px, 1px, 1px);height: 1px;margin: -1px;overflow: hidden;padding: 0;position: absolute;width: 1px;}#sk-container-id-2 div.sk-estimator {font-family: monospace;background-color: #f0f8ff;border: 1px dotted black;border-radius: 0.25em;box-sizing: border-box;margin-bottom: 0.5em;}#sk-container-id-2 div.sk-estimator:hover {background-color: #d4ebff;}#sk-container-id-2 div.sk-parallel-item::after {content: \"\";width: 100%;border-bottom: 1px solid gray;flex-grow: 1;}#sk-container-id-2 div.sk-label:hover label.sk-toggleable__label {background-color: #d4ebff;}#sk-container-id-2 div.sk-serial::before {content: \"\";position: absolute;border-left: 1px solid gray;box-sizing: border-box;top: 0;bottom: 0;left: 50%;z-index: 0;}#sk-container-id-2 div.sk-serial {display: flex;flex-direction: column;align-items: center;background-color: white;padding-right: 0.2em;padding-left: 0.2em;position: relative;}#sk-container-id-2 div.sk-item {position: relative;z-index: 1;}#sk-container-id-2 div.sk-parallel {display: flex;align-items: stretch;justify-content: center;background-color: white;position: relative;}#sk-container-id-2 div.sk-item::before, #sk-container-id-2 div.sk-parallel-item::before {content: \"\";position: absolute;border-left: 1px solid gray;box-sizing: border-box;top: 0;bottom: 0;left: 50%;z-index: -1;}#sk-container-id-2 div.sk-parallel-item {display: flex;flex-direction: column;z-index: 1;position: relative;background-color: white;}#sk-container-id-2 div.sk-parallel-item:first-child::after {align-self: flex-end;width: 50%;}#sk-container-id-2 div.sk-parallel-item:last-child::after {align-self: flex-start;width: 50%;}#sk-container-id-2 div.sk-parallel-item:only-child::after {width: 0;}#sk-container-id-2 div.sk-dashed-wrapped {border: 1px dashed gray;margin: 0 0.4em 0.5em 0.4em;box-sizing: border-box;padding-bottom: 0.4em;background-color: white;}#sk-container-id-2 div.sk-label label {font-family: monospace;font-weight: bold;display: inline-block;line-height: 1.2em;}#sk-container-id-2 div.sk-label-container {text-align: center;}#sk-container-id-2 div.sk-container {/* jupyter's `normalize.less` sets `[hidden] { display: none; }` but bootstrap.min.css set `[hidden] { display: none !important; }` so we also need the `!important` here to be able to override the default hidden behavior on the sphinx rendered scikit-learn.org. See: https://github.com/scikit-learn/scikit-learn/issues/21755 */display: inline-block !important;position: relative;}#sk-container-id-2 div.sk-text-repr-fallback {display: none;}</style><div id=\"sk-container-id-2\" class=\"sk-top-container\"><div class=\"sk-text-repr-fallback\"><pre>Ridge()</pre><b>In a Jupyter environment, please rerun this cell to show the HTML representation or trust the notebook. <br />On GitHub, the HTML representation is unable to render, please try loading this page with nbviewer.org.</b></div><div class=\"sk-container\" hidden><div class=\"sk-item\"><div class=\"sk-estimator sk-toggleable\"><input class=\"sk-toggleable__control sk-hidden--visually\" id=\"sk-estimator-id-2\" type=\"checkbox\" checked><label for=\"sk-estimator-id-2\" class=\"sk-toggleable__label sk-toggleable__label-arrow\">Ridge</label><div class=\"sk-toggleable__content\"><pre>Ridge()</pre></div></div></div></div></div>"
      ],
      "text/plain": [
       "Ridge()"
      ]
     },
     "execution_count": 40,
     "metadata": {},
     "output_type": "execute_result"
    }
   ],
   "source": [
    "from sklearn.linear_model import Ridge\n",
    "ridgreg =  Ridge()\n",
    "ridgreg.fit(X_train, y_train)"
   ]
  },
  {
   "cell_type": "code",
   "execution_count": 41,
   "id": "161ab54c",
   "metadata": {},
   "outputs": [],
   "source": [
    "y_predict_Ridg = ridgreg.predict(X_test)"
   ]
  },
  {
   "cell_type": "code",
   "execution_count": 42,
   "id": "0d1b26b1",
   "metadata": {},
   "outputs": [
    {
     "data": {
      "text/plain": [
       "0.5694487575363063"
      ]
     },
     "execution_count": 42,
     "metadata": {},
     "output_type": "execute_result"
    }
   ],
   "source": [
    "r2_score(y_test, y_predict_Ridg)"
   ]
  },
  {
   "cell_type": "code",
   "execution_count": 43,
   "id": "82563bc4",
   "metadata": {},
   "outputs": [],
   "source": [
    "#Absolute error\n",
    "abs_err_ridg = abs(y_test - y_predict_Ridg)"
   ]
  },
  {
   "cell_type": "code",
   "execution_count": 44,
   "id": "af27845e",
   "metadata": {},
   "outputs": [],
   "source": [
    "\n",
    "models_comp = pd.concat([models_comp,pd.DataFrame({'R2 score ':r2_score(y_test, y_predict_Ridg),\n",
    "                                       'Mean of AbsErrors':    abs_err_ridg.mean(),\n",
    "                                       'Median of AbsErrors' : abs_err_ridg.median(),\n",
    "                                       'SD of AbsErrors' :     abs_err_ridg.std(),\n",
    "                                       'IQR of AbsErrors':     iqr(abs_err_ridg),\n",
    "                                       'Min of AbsErrors':     abs_err_ridg.min(),\n",
    "                                       'Max of AbsErrors':     abs_err_ridg.max()}, \n",
    "                                      index = ['RidgeRegression'])])"
   ]
  },
  {
   "cell_type": "code",
   "execution_count": 45,
   "id": "4c4d2574",
   "metadata": {},
   "outputs": [
    {
     "data": {
      "text/html": [
       "<div>\n",
       "<style scoped>\n",
       "    .dataframe tbody tr th:only-of-type {\n",
       "        vertical-align: middle;\n",
       "    }\n",
       "\n",
       "    .dataframe tbody tr th {\n",
       "        vertical-align: top;\n",
       "    }\n",
       "\n",
       "    .dataframe thead th {\n",
       "        text-align: right;\n",
       "    }\n",
       "</style>\n",
       "<table border=\"1\" class=\"dataframe\">\n",
       "  <thead>\n",
       "    <tr style=\"text-align: right;\">\n",
       "      <th></th>\n",
       "      <th>R2 score</th>\n",
       "      <th>Mean of AbsErrors</th>\n",
       "      <th>Median of AbsErrors</th>\n",
       "      <th>SD of AbsErrors</th>\n",
       "      <th>IQR of AbsErrors</th>\n",
       "      <th>Min of AbsErrors</th>\n",
       "      <th>Max of AbsErrors</th>\n",
       "    </tr>\n",
       "  </thead>\n",
       "  <tbody>\n",
       "    <tr>\n",
       "      <th>LinearRegression</th>\n",
       "      <td>0.569414</td>\n",
       "      <td>802.405295</td>\n",
       "      <td>598.471733</td>\n",
       "      <td>737.819382</td>\n",
       "      <td>861.933773</td>\n",
       "      <td>0.616558</td>\n",
       "      <td>5484.392304</td>\n",
       "    </tr>\n",
       "    <tr>\n",
       "      <th>RidgeRegression</th>\n",
       "      <td>0.569449</td>\n",
       "      <td>802.325791</td>\n",
       "      <td>597.541155</td>\n",
       "      <td>737.841376</td>\n",
       "      <td>863.580075</td>\n",
       "      <td>0.383858</td>\n",
       "      <td>5484.636551</td>\n",
       "    </tr>\n",
       "  </tbody>\n",
       "</table>\n",
       "</div>"
      ],
      "text/plain": [
       "                  R2 score   Mean of AbsErrors  Median of AbsErrors  \\\n",
       "LinearRegression   0.569414         802.405295           598.471733   \n",
       "RidgeRegression    0.569449         802.325791           597.541155   \n",
       "\n",
       "                  SD of AbsErrors  IQR of AbsErrors  Min of AbsErrors  \\\n",
       "LinearRegression       737.819382        861.933773          0.616558   \n",
       "RidgeRegression        737.841376        863.580075          0.383858   \n",
       "\n",
       "                  Max of AbsErrors  \n",
       "LinearRegression       5484.392304  \n",
       "RidgeRegression        5484.636551  "
      ]
     },
     "execution_count": 45,
     "metadata": {},
     "output_type": "execute_result"
    }
   ],
   "source": [
    "models_comp"
   ]
  },
  {
   "cell_type": "code",
   "execution_count": 46,
   "id": "0d3b2852",
   "metadata": {},
   "outputs": [],
   "source": [
    "from sklearn.ensemble import RandomForestRegressor\n",
    "rf_reg = RandomForestRegressor(n_estimators = 200,\n",
    "                               max_features = 5, \n",
    "                               criterion = 'squared_error',\n",
    "                               max_depth = 10, \n",
    "                               min_samples_leaf = 5, \n",
    "                               ccp_alpha = 0,\n",
    "                               random_state = 42)\n",
    "model1 = rf_reg.fit(X_train, y_train)"
   ]
  },
  {
   "cell_type": "code",
   "execution_count": 47,
   "id": "00a429c2",
   "metadata": {},
   "outputs": [
    {
     "data": {
      "image/png": "[encoded data removed]",
      "text/plain": [
       "<Figure size 640x480 with 1 Axes>"
      ]
     },
     "metadata": {},
     "output_type": "display_data"
    }
   ],
   "source": [
    "importance = pd.DataFrame({'importance':model1.feature_importances_ * 100}, \n",
    "                          index = X_train.columns)\n",
    "importance.sort_values(by = 'importance', axis = 0, ascending = True).plot(kind = 'barh', color = 'r')\n",
    "plt.title('Variable Importance')\n",
    "plt.xlabel('MSE Increase (%)')\n",
    "plt.show()"
   ]
  },
  {
   "cell_type": "code",
   "execution_count": 48,
   "id": "6f2c1932",
   "metadata": {},
   "outputs": [
    {
     "data": {
      "text/html": [
       "<div>\n",
       "<style scoped>\n",
       "    .dataframe tbody tr th:only-of-type {\n",
       "        vertical-align: middle;\n",
       "    }\n",
       "\n",
       "    .dataframe tbody tr th {\n",
       "        vertical-align: top;\n",
       "    }\n",
       "\n",
       "    .dataframe thead th {\n",
       "        text-align: right;\n",
       "    }\n",
       "</style>\n",
       "<table border=\"1\" class=\"dataframe\">\n",
       "  <thead>\n",
       "    <tr style=\"text-align: right;\">\n",
       "      <th></th>\n",
       "      <th>n_estimators</th>\n",
       "      <th>max_features</th>\n",
       "      <th>max_depth</th>\n",
       "      <th>min_samples_leaf</th>\n",
       "    </tr>\n",
       "  </thead>\n",
       "  <tbody>\n",
       "    <tr>\n",
       "      <th>1</th>\n",
       "      <td>100</td>\n",
       "      <td>sqrt</td>\n",
       "      <td>2</td>\n",
       "      <td>5</td>\n",
       "    </tr>\n",
       "    <tr>\n",
       "      <th>2</th>\n",
       "      <td>100</td>\n",
       "      <td>sqrt</td>\n",
       "      <td>2</td>\n",
       "      <td>10</td>\n",
       "    </tr>\n",
       "    <tr>\n",
       "      <th>3</th>\n",
       "      <td>100</td>\n",
       "      <td>sqrt</td>\n",
       "      <td>2</td>\n",
       "      <td>15</td>\n",
       "    </tr>\n",
       "    <tr>\n",
       "      <th>4</th>\n",
       "      <td>100</td>\n",
       "      <td>sqrt</td>\n",
       "      <td>5</td>\n",
       "      <td>5</td>\n",
       "    </tr>\n",
       "    <tr>\n",
       "      <th>5</th>\n",
       "      <td>100</td>\n",
       "      <td>sqrt</td>\n",
       "      <td>5</td>\n",
       "      <td>10</td>\n",
       "    </tr>\n",
       "    <tr>\n",
       "      <th>...</th>\n",
       "      <td>...</td>\n",
       "      <td>...</td>\n",
       "      <td>...</td>\n",
       "      <td>...</td>\n",
       "    </tr>\n",
       "    <tr>\n",
       "      <th>77</th>\n",
       "      <td>500</td>\n",
       "      <td>None</td>\n",
       "      <td>5</td>\n",
       "      <td>10</td>\n",
       "    </tr>\n",
       "    <tr>\n",
       "      <th>78</th>\n",
       "      <td>500</td>\n",
       "      <td>None</td>\n",
       "      <td>5</td>\n",
       "      <td>15</td>\n",
       "    </tr>\n",
       "    <tr>\n",
       "      <th>79</th>\n",
       "      <td>500</td>\n",
       "      <td>None</td>\n",
       "      <td>10</td>\n",
       "      <td>5</td>\n",
       "    </tr>\n",
       "    <tr>\n",
       "      <th>80</th>\n",
       "      <td>500</td>\n",
       "      <td>None</td>\n",
       "      <td>10</td>\n",
       "      <td>10</td>\n",
       "    </tr>\n",
       "    <tr>\n",
       "      <th>81</th>\n",
       "      <td>500</td>\n",
       "      <td>None</td>\n",
       "      <td>10</td>\n",
       "      <td>15</td>\n",
       "    </tr>\n",
       "  </tbody>\n",
       "</table>\n",
       "<p>81 rows × 4 columns</p>\n",
       "</div>"
      ],
      "text/plain": [
       "    n_estimators max_features  max_depth  min_samples_leaf\n",
       "1            100         sqrt          2                 5\n",
       "2            100         sqrt          2                10\n",
       "3            100         sqrt          2                15\n",
       "4            100         sqrt          5                 5\n",
       "5            100         sqrt          5                10\n",
       "..           ...          ...        ...               ...\n",
       "77           500         None          5                10\n",
       "78           500         None          5                15\n",
       "79           500         None         10                 5\n",
       "80           500         None         10                10\n",
       "81           500         None         10                15\n",
       "\n",
       "[81 rows x 4 columns]"
      ]
     },
     "execution_count": 48,
     "metadata": {},
     "output_type": "execute_result"
    }
   ],
   "source": [
    "#Create hyper-parameters grid\n",
    "import itertools\n",
    "n_estimators = [100, 200, 500]\n",
    "max_features = ['sqrt', 'log2', None] #If None or 1.0, then max_features = n_features\n",
    "max_depth = [2, 5, 10]\n",
    "min_samples_leaf = [5, 10, 15]\n",
    "params_grid = list(itertools.product(n_estimators, max_features, max_depth, min_samples_leaf))\n",
    "params_grid = pd.DataFrame(data = params_grid,\n",
    "                           index = range(1, 82), \n",
    "                           columns = ['n_estimators', 'max_features', 'max_depth', 'min_samples_leaf'])\n",
    "params_grid"
   ]
  },
  {
   "cell_type": "code",
   "execution_count": 49,
   "id": "be5c5f5b",
   "metadata": {},
   "outputs": [
    {
     "name": "stdout",
     "output_type": "stream",
     "text": [
      "The Processing time is:  179.35075044631958 seconds\n"
     ]
    },
    {
     "data": {
      "text/plain": [
       "array([-1462.7462508 , -1464.65240912, -1456.06613905, -1233.43003255,\n",
       "       -1231.41130646, -1222.21805251, -1124.56623669, -1127.59574829,\n",
       "       -1129.81463208, -1454.08069518, -1464.60833243, -1472.9145584 ,\n",
       "       -1222.07619961, -1217.16139695, -1232.74983897, -1123.51017631,\n",
       "       -1128.64983702, -1130.04507061, -1355.46451373, -1353.02979839,\n",
       "       -1354.06624029, -1093.43745031, -1093.84806094, -1093.52535827,\n",
       "       -1110.68098157, -1107.65121907, -1102.35564375, -1466.97424559,\n",
       "       -1465.62115675, -1463.7003536 , -1224.68332136, -1227.93923305,\n",
       "       -1230.37188444, -1122.50988987, -1125.77771095, -1129.46449205,\n",
       "       -1461.07257739, -1449.23553226, -1460.12411103, -1226.72067988,\n",
       "       -1229.03398816, -1222.62102908, -1123.79837714, -1125.1940703 ,\n",
       "       -1130.06810539, -1355.17801899, -1354.79487891, -1355.2206056 ,\n",
       "       -1094.07369061, -1093.96660335, -1093.37840238, -1109.23428247,\n",
       "       -1105.73110353, -1101.6622803 , -1462.90027879, -1460.51009229,\n",
       "       -1462.44365121, -1229.34589993, -1229.03898199, -1228.13229123,\n",
       "       -1124.04866961, -1124.37783178, -1128.2090673 , -1459.875102  ,\n",
       "       -1461.85060672, -1461.13848624, -1225.25022099, -1227.36095592,\n",
       "       -1224.48341938, -1123.52047173, -1124.83993801, -1127.69568058,\n",
       "       -1355.72488346, -1355.86501193, -1354.98212738, -1094.26413241,\n",
       "       -1094.26232821, -1093.48977587, -1109.49552422, -1105.51740856,\n",
       "       -1101.03238607])"
      ]
     },
     "execution_count": 49,
     "metadata": {},
     "output_type": "execute_result"
    }
   ],
   "source": [
    "#K-fold cross validation to choose the best model\n",
    "from sklearn.model_selection import cross_val_score\n",
    "\n",
    "import time #to measure the processing time\n",
    "start_time = time.time()\n",
    "cv_errors = np.zeros(shape = len(params_grid)) #to save cv results\n",
    "for i in range(len(params_grid)):\n",
    "    rf_reg = RandomForestRegressor(n_estimators = params_grid.iloc[i, 0],\n",
    "                                   max_features = params_grid.iloc[i, 1], \n",
    "                                   criterion = 'squared_error',\n",
    "                                   max_depth = params_grid.iloc[i, 2], \n",
    "                                   min_samples_leaf = params_grid.iloc[i, 3], \n",
    "                                   ccp_alpha = 0)\n",
    "    scores = cross_val_score(estimator = rf_reg, \n",
    "                             X = X_train, \n",
    "                             y = y_train,\n",
    "                             scoring = 'neg_root_mean_squared_error',\n",
    "                             cv = 5, n_jobs = -1)\n",
    "    cv_errors[i] = scores.mean() \n",
    "#To check scoring: \n",
    "#https://scikit-learn.org/stable/modules/model_evaluation.html\n",
    "end_time = time.time()\n",
    "print('The Processing time is: ', end_time - start_time, 'seconds')\n",
    "\n",
    "cv_errors"
   ]
  },
  {
   "cell_type": "code",
   "execution_count": 50,
   "id": "14c9f209",
   "metadata": {},
   "outputs": [
    {
     "data": {
      "text/plain": [
       "n_estimators         200\n",
       "max_features        None\n",
       "max_depth              5\n",
       "min_samples_leaf      15\n",
       "Name: 51, dtype: object"
      ]
     },
     "execution_count": 50,
     "metadata": {},
     "output_type": "execute_result"
    }
   ],
   "source": [
    "#Best model\n",
    "params_grid.iloc[np.argmax(cv_errors), :]"
   ]
  },
  {
   "cell_type": "code",
   "execution_count": 51,
   "id": "3e30bc5f",
   "metadata": {},
   "outputs": [],
   "source": [
    "rf_reg = RandomForestRegressor(n_estimators = params_grid.iloc[np.argmax(cv_errors), 0],\n",
    "                               max_features = params_grid.iloc[np.argmax(cv_errors), 1], \n",
    "                               criterion = 'squared_error',\n",
    "                               max_depth = params_grid.iloc[np.argmax(cv_errors), 2], \n",
    "                               min_samples_leaf = params_grid.iloc[np.argmax(cv_errors), 3], \n",
    "                               ccp_alpha = 0,\n",
    "                               random_state = 42)\n",
    "model_2 = rf_reg.fit(X_train, y_train)\n",
    "\n",
    "#Prediction using model 2\n",
    "y_predict_rf = model_2.predict(X_test)\n"
   ]
  },
  {
   "cell_type": "code",
   "execution_count": 52,
   "id": "8db0ec20",
   "metadata": {},
   "outputs": [
    {
     "data": {
      "text/plain": [
       "726.3716676238618"
      ]
     },
     "execution_count": 52,
     "metadata": {},
     "output_type": "execute_result"
    }
   ],
   "source": [
    "#Absolute error\n",
    "abs_err_rf = abs(y_test - y_predict_rf)\n",
    "abs_err_rf.mean()"
   ]
  },
  {
   "cell_type": "code",
   "execution_count": 53,
   "id": "05b47504",
   "metadata": {},
   "outputs": [
    {
     "data": {
      "text/html": [
       "<div>\n",
       "<style scoped>\n",
       "    .dataframe tbody tr th:only-of-type {\n",
       "        vertical-align: middle;\n",
       "    }\n",
       "\n",
       "    .dataframe tbody tr th {\n",
       "        vertical-align: top;\n",
       "    }\n",
       "\n",
       "    .dataframe thead th {\n",
       "        text-align: right;\n",
       "    }\n",
       "</style>\n",
       "<table border=\"1\" class=\"dataframe\">\n",
       "  <thead>\n",
       "    <tr style=\"text-align: right;\">\n",
       "      <th></th>\n",
       "      <th>R2 score</th>\n",
       "      <th>Mean of AbsErrors</th>\n",
       "      <th>Median of AbsErrors</th>\n",
       "      <th>SD of AbsErrors</th>\n",
       "      <th>IQR of AbsErrors</th>\n",
       "      <th>Min of AbsErrors</th>\n",
       "      <th>Max of AbsErrors</th>\n",
       "    </tr>\n",
       "  </thead>\n",
       "  <tbody>\n",
       "    <tr>\n",
       "      <th>LinearRegression</th>\n",
       "      <td>0.569414</td>\n",
       "      <td>802.405295</td>\n",
       "      <td>598.471733</td>\n",
       "      <td>737.819382</td>\n",
       "      <td>861.933773</td>\n",
       "      <td>0.616558</td>\n",
       "      <td>5484.392304</td>\n",
       "    </tr>\n",
       "    <tr>\n",
       "      <th>RidgeRegression</th>\n",
       "      <td>0.569449</td>\n",
       "      <td>802.325791</td>\n",
       "      <td>597.541155</td>\n",
       "      <td>737.841376</td>\n",
       "      <td>863.580075</td>\n",
       "      <td>0.383858</td>\n",
       "      <td>5484.636551</td>\n",
       "    </tr>\n",
       "    <tr>\n",
       "      <th>Random Forest</th>\n",
       "      <td>0.605069</td>\n",
       "      <td>726.371668</td>\n",
       "      <td>476.502813</td>\n",
       "      <td>749.836009</td>\n",
       "      <td>833.420686</td>\n",
       "      <td>0.034862</td>\n",
       "      <td>5576.955904</td>\n",
       "    </tr>\n",
       "  </tbody>\n",
       "</table>\n",
       "</div>"
      ],
      "text/plain": [
       "                  R2 score   Mean of AbsErrors  Median of AbsErrors  \\\n",
       "LinearRegression   0.569414         802.405295           598.471733   \n",
       "RidgeRegression    0.569449         802.325791           597.541155   \n",
       "Random Forest      0.605069         726.371668           476.502813   \n",
       "\n",
       "                  SD of AbsErrors  IQR of AbsErrors  Min of AbsErrors  \\\n",
       "LinearRegression       737.819382        861.933773          0.616558   \n",
       "RidgeRegression        737.841376        863.580075          0.383858   \n",
       "Random Forest          749.836009        833.420686          0.034862   \n",
       "\n",
       "                  Max of AbsErrors  \n",
       "LinearRegression       5484.392304  \n",
       "RidgeRegression        5484.636551  \n",
       "Random Forest          5576.955904  "
      ]
     },
     "execution_count": 53,
     "metadata": {},
     "output_type": "execute_result"
    }
   ],
   "source": [
    "\n",
    "\n",
    "#Absolute error mean, median, sd, IQR, max, min\n",
    "from scipy.stats import iqr\n",
    "models_comp = pd.concat([models_comp,\n",
    "                         pd.DataFrame({'R2 score ' :  r2_score(y_test, y_predict_rf),\n",
    "                                       'Mean of AbsErrors':    abs_err_rf.mean() ,\n",
    "                                       'Median of AbsErrors' : abs_err_rf.median(),\n",
    "                                       'SD of AbsErrors' :     abs_err_rf.std(),\n",
    "                                       'IQR of AbsErrors':     iqr(abs_err_rf),\n",
    "                                       'Min of AbsErrors':     abs_err_rf.min(),\n",
    "                                       'Max of AbsErrors':     abs_err_rf.max()}, \n",
    "                                      index = ['Random Forest'])])\n",
    "models_comp"
   ]
  },
  {
   "cell_type": "code",
   "execution_count": null,
   "id": "92b96e29",
   "metadata": {},
   "outputs": [],
   "source": []
  },
  {
   "cell_type": "code",
   "execution_count": null,
   "id": "1d4c9f48",
   "metadata": {},
   "outputs": [],
   "source": []
  },
  {
   "cell_type": "code",
   "execution_count": null,
   "id": "8a9b1eb8",
   "metadata": {},
   "outputs": [],
   "source": []
  },
  {
   "cell_type": "code",
   "execution_count": null,
   "id": "403ec5fd",
   "metadata": {},
   "outputs": [],
   "source": []
  },
  {
   "cell_type": "code",
   "execution_count": null,
   "id": "f5ee8200",
   "metadata": {},
   "outputs": [],
   "source": []
  },
  {
   "cell_type": "code",
   "execution_count": null,
   "id": "a43a4b72",
   "metadata": {},
   "outputs": [],
   "source": []
  }
 ],
 "metadata": {
  "kernelspec": {
   "display_name": "Python 3 (ipykernel)",
   "language": "python",
   "name": "python3"
  },
  "language_info": {
   "codemirror_mode": {
    "name": "ipython",
    "version": 3
   },
   "file_extension": ".py",
   "mimetype": "text/x-python",
   "name": "python",
   "nbconvert_exporter": "python",
   "pygments_lexer": "ipython3",
   "version": "3.11.4"
  }
 },
 "nbformat": 4,
 "nbformat_minor": 5
}
